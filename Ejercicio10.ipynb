{
 "cells": [
  {
   "cell_type": "markdown",
   "metadata": {},
   "source": [
    "<h1> Ejercicio 10 Practica 2 </h1>\n",
    "\n",
    "__Se explicara el codigo realizado para resolver el ejercicio 10 de la Practica 2.__\n",
    "\n",
    "Este pedia que: \n",
    "\n",
    "Trabajando con los contenidos de los archivos que pueden acceder en el curso:\n",
    "  * nombres\n",
    "  * eval1\n",
    "  * eval2.\n",
    "  \n",
    "Manipule estos archivos para realizar lo siguiente:\n",
    "  1. Generar una estructura con los nombres de los estudiantes y la suma de ambas notas.\n",
    "  2. Calcular el promedio de las notas totales e informar que alumnos obtuvieron menos que el\n",
    "promedio."
   ]
  },
  {
   "cell_type": "markdown",
   "metadata": {},
   "source": [
    "Primero, antes de manipular los archivos, debemos abrirlos para obtener su información."
   ]
  },
  {
   "cell_type": "code",
   "execution_count": 1,
   "metadata": {},
   "outputs": [],
   "source": [
    "import re\n",
    "with open(\"nombres_1.txt\", 'r', encoding='utf-8',) as nombres, open(\"eval1.txt\", 'r') as notas1, open(\"eval2.txt\", 'r') as notas2:\n",
    "    l_nombres = re.sub(\"[,' ]\", '', nombres.read()).split('\\n')\n",
    "    l_notas1 = re.sub('[\\n ]', '', notas1.read()).split(',')\n",
    "    l_notas2 = re.sub('[\\n ]', '', notas2.read()).split(',')"
   ]
  },
  {
   "cell_type": "markdown",
   "metadata": {},
   "source": [
    "Utilizamos la operación with para esto, en modo de lectura y con encoding utf-8 asi preeservamos las tildes. \n",
    "\n",
    "Luego leemos los mismos con el .read() y le aplicamos un .sub() a los datos ingresados para limpiarlos, utilizando regex importado de la librería. De esta manera eliminamos las comillas y comas del archivo de nombres, y los saltos de linea explícitos en los archivos de notas.\n",
    "\n",
    "Por último hacemos un .split() de la información leida, para transformarlo a lista y se lo asignamos a las variables pertinentes. "
   ]
  },
  {
   "cell_type": "markdown",
   "metadata": {},
   "source": [
    "Luego para el punto 1 tenemos que:"
   ]
  },
  {
   "cell_type": "code",
   "execution_count": 4,
   "metadata": {},
   "outputs": [],
   "source": [
    "lista_notas = list(map(lambda x, y: int(x) + int(y), l_notas1, l_notas2))"
   ]
  },
  {
   "cell_type": "markdown",
   "metadata": {},
   "source": [
    "Lo que hacemos es un mapeo de las dos listas de notas, con el .map(). Les aplicamos a ambas una función lambda que toma sus valores, los transforma a integers (ya que en el archivo nos vienen como cadenas) y los suma.\n",
    "\n",
    "Esta nueva estructura iterable es transformada a lista con list() y es guardada en lista_notas para su futuro uso.\n",
    "\n",
    "Para generar una estructura con esta suma de notas y los nombres, utilizaremos una lista de listas. Ya que los diccionarios no los podremos usar, dado que existen nombres repetidos, y las tuplas no las podremos modificar en el caso de que querramos actualizarlo (común en una base de datos)."
   ]
  },
  {
   "cell_type": "code",
   "execution_count": 6,
   "metadata": {},
   "outputs": [],
   "source": [
    "lista_informacion = list(map(lambda x, y: [x, y], l_nombres, lista_notas))"
   ]
  },
  {
   "cell_type": "markdown",
   "metadata": {},
   "source": [
    "En este caso hacemos otro mapeo, con la lista de nombres y la lista de notas, para unir sus datos en una lista propia. Como las notas y los nombres tienen relación 1:1, no tenemos problemas de emparejamiento. Estas listas interiores seran almacenadas por una lista mayor que estará guardada en la variable lista_informacion."
   ]
  },
  {
   "cell_type": "markdown",
   "metadata": {},
   "source": [
    "Para el punto 2 tenemos que:"
   ]
  },
  {
   "cell_type": "code",
   "execution_count": 8,
   "metadata": {},
   "outputs": [],
   "source": [
    "prom = sum(lista_notas)/len(lista_notas)"
   ]
  },
  {
   "cell_type": "markdown",
   "metadata": {},
   "source": [
    "Esto le asigna a la variable prom la proporción entre la suma total de la lista_notas, a través de la función sum(), y la cantidad de notas totales de la lista, con la función len()."
   ]
  },
  {
   "cell_type": "code",
   "execution_count": null,
   "metadata": {},
   "outputs": [],
   "source": [
    "for elem in lista_informacion:\n",
    "    if elem[1] < prom:\n",
    "        print(f'El alumno {elem[0]} tiene una nota menor al promedio')"
   ]
  },
  {
   "cell_type": "markdown",
   "metadata": {},
   "source": [
    "Por último recorremos la lista que generamos en el punto 1, y preguntamos en cada caso si la nota del alumno, en posición 1 de la lista, es menor al promedio. Si se da el caso que sí, imprimimos su nombre."
   ]
  },
  {
   "cell_type": "markdown",
   "metadata": {},
   "source": [
    "__El codigo completo seria:__"
   ]
  },
  {
   "cell_type": "code",
   "execution_count": null,
   "metadata": {},
   "outputs": [],
   "source": [
    "import re\n",
    "\n",
    "with open(\"nombres_1.txt\", 'r', encoding='utf-8',) as nombres, open(\"eval1.txt\", 'r') as notas1, open(\"eval2.txt\", 'r') as notas2:\n",
    "    l_nombres = re.sub(\"[,' ]\", '', nombres.read()).split('\\n')\n",
    "    l_notas1 = re.sub('[\\n ]', '', notas1.read()).split(',')\n",
    "    l_notas2 = re.sub('[\\n ]', '', notas2.read()).split(',')\n",
    "lista_notas = list(map(lambda x, y: int(x) + int(y), l_notas1, l_notas2))\n",
    "lista_informacion = list(map(lambda x, y: [x, y], l_nombres, lista_notas))\n",
    "\n",
    "prom = sum(lista_notas)/len(lista_notas)\n",
    "for elem in lista_informacion:\n",
    "    if elem[1] < prom:\n",
    "        print(f'El alumno {elem[0]} tiene una nota menor al promedio')\n"
   ]
  }
 ],
 "metadata": {
  "interpreter": {
   "hash": "0dda09140a1fd88ea879080486bbeb4c81cc74626dc51b563162033e734c6912"
  },
  "kernelspec": {
   "display_name": "Python 3.10.0 64-bit",
   "language": "python",
   "name": "python3"
  },
  "language_info": {
   "codemirror_mode": {
    "name": "ipython",
    "version": 3
   },
   "file_extension": ".py",
   "mimetype": "text/x-python",
   "name": "python",
   "nbconvert_exporter": "python",
   "pygments_lexer": "ipython3",
   "version": "3.10.0"
  },
  "orig_nbformat": 4
 },
 "nbformat": 4,
 "nbformat_minor": 2
}
